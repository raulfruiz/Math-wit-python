{
  "nbformat": 4,
  "nbformat_minor": 0,
  "metadata": {
    "colab": {
      "name": "ProgramandoFunciones.ipynb",
      "provenance": [],
      "collapsed_sections": [],
      "include_colab_link": true
    },
    "kernelspec": {
      "name": "python3",
      "display_name": "Python 3"
    }
  },
  "cells": [
    {
      "cell_type": "markdown",
      "metadata": {
        "id": "view-in-github",
        "colab_type": "text"
      },
      "source": [
        "<a href=\"https://colab.research.google.com/github/raulfruiz/Math-wit-python/blob/main/ProgramandoFunciones.ipynb\" target=\"_parent\"><img src=\"https://colab.research.google.com/assets/colab-badge.svg\" alt=\"Open In Colab\"/></a>"
      ]
    },
    {
      "cell_type": "markdown",
      "metadata": {
        "id": "vH4sOMr9N-1O"
      },
      "source": [
        "### Librerías\n"
      ]
    },
    {
      "cell_type": "code",
      "metadata": {
        "id": "_eH8kVUMMmkK"
      },
      "source": [
        "import matplotlib.pyplot as plt   # librería para graficar\n",
        "import numpy as np                # librería para manejo de vectores y utilidades matemáticas"
      ],
      "execution_count": null,
      "outputs": []
    },
    {
      "cell_type": "markdown",
      "metadata": {
        "id": "-y2aX5rENwhH"
      },
      "source": [
        "# Funciones algebraicas"
      ]
    },
    {
      "cell_type": "markdown",
      "metadata": {
        "id": "2yBuQZflF0UX"
      },
      "source": [
        "### Función lineal\n",
        "\n",
        "Tiene la forma de $$f(x)=mx + b$$ donde $m$ y $b$  $\\in R$. \n",
        "\n",
        "$m$ puede ser calculada por: $$m=\\frac{y_{2}-y_{1}}{x_{2}-x_{1}}$$\n",
        "\n",
        "y $b$ es el punto de corte con el eje $y$. Su dominio es $Dom_{f} = (-\\infty, \\infty)$. Su imagen es $Im_{f} = (-\\infty, \\infty)$\n",
        "\n",
        "\n"
      ]
    },
    {
      "cell_type": "code",
      "metadata": {
        "id": "n3vMv_IGHGpy"
      },
      "source": [
        "res = 100 # número de puntos, \"res\" se refiere a la resolución de la gráfica\n",
        "\n",
        "def funcionAlgebraica(m,x,b):\n",
        "  return m*x + b\n",
        "\n",
        "\n",
        "m = (7-6)/(3-2)\n",
        "\n",
        "x = np.linspace(-10.0, 10.0, num=res)  #crea vector de -10 a 10 con 100 puntos en total\n",
        "\n",
        "b = 10\n",
        "\n",
        "y = funcionAlgebraica(m,x,b)#llamado a la función previamente definida con sus \n",
        "#parámetros bien claros\n",
        "\n",
        "#Sigue graficarrrr\n",
        "\n",
        "fig, ax = plt.subplots() #\"fig\" es para figura, \"ax\"es de eje.\n",
        "ax.plot(x, y,color='g') #.plot grafica el vector x contra y. El orden de los parámetros importa\n",
        "#El primero se grafica en X y el segundo en Y. Al final se especifica el color\n",
        "ax.grid() #activa la cuadrícula\n",
        "ax.axhline(y=0, color='r') #dibuja línea horizontal a la altura de y=0 color rojo\n",
        "ax.axvline(x=0, color='r')#dibuja línea vertical a la distancia de x=0 color rojo"
      ],
      "execution_count": null,
      "outputs": []
    },
    {
      "cell_type": "markdown",
      "metadata": {
        "id": "FflFWNqjJCuO"
      },
      "source": [
        "### Función Polinómicas\n",
        "\n",
        "Tiene la forma de $$P(x)=a_{n}x^{n} + a_{n-1}x^{n-1}+...+a_{2}x^{2}+a_{1}x + a_{1}$$\n",
        "\n",
        "a una función que tiene esta forma se le llama polinomio de grado $n$. A los elementos $a$ los llamaremoc coeficientes donde $a \\in R$. \n",
        "\n",
        "**Por ejemplo:**\n",
        "\n",
        "$$P(x)= 2x^{7} - x^{4} + 3x^{2} + 4$$\n",
        "\n",
        "que es un polinómio de grado 7.\n",
        "\n",
        "\n",
        "### Funciones potencia\n",
        "\n",
        "Hay unas funciones que son un caso particular de las funciones polinómicas que son las funciones potencia, las cuales tienen la forma:\n",
        "\n",
        "\n",
        "$$f(x)= x^{a}, a \\in R$$ \n",
        "\n",
        "\n",
        "**Por ejemplo:**\n",
        "\n",
        "$$f(x)= x^{2}$$\n",
        "\n",
        "El dominio de $f(x)=x^{2}$ es $Dom_{f} = (-\\infty, \\infty)$. Su imagen es $Im_{f} = [0, \\infty)$\n",
        "\n",
        "\n",
        "\n"
      ]
    },
    {
      "cell_type": "code",
      "metadata": {
        "id": "v5EI228kb6NK",
        "colab": {
          "base_uri": "https://localhost:8080/",
          "height": 293
        },
        "outputId": "681bde45-fe13-4e47-bc30-d1c04a59726c"
      },
      "source": [
        "def f(x):\n",
        "  return 2*x**7 - x**4 + 3*x**2 + 4\n",
        "\n",
        "x = np.linspace(-100.0, 100.0, num=N)\n",
        "\n",
        "y = f(x)\n",
        "\n",
        "fig, ax = plt.subplots()\n",
        "ax.plot(x, y)\n",
        "ax.grid()\n",
        "ax.axhline(y=0, color='r')\n",
        "ax.axvline(x=0, color='r')"
      ],
      "execution_count": null,
      "outputs": [
        {
          "output_type": "execute_result",
          "data": {
            "text/plain": [
              "<matplotlib.lines.Line2D at 0x7fc529f34d30>"
            ]
          },
          "metadata": {
            "tags": []
          },
          "execution_count": 3
        },
        {
          "output_type": "display_data",
          "data": {
            "image/png": "[encoded data removed]",
            "text/plain": [
              "<Figure size 432x288 with 1 Axes>"
            ]
          },
          "metadata": {
            "tags": [],
            "needs_background": "light"
          }
        }
      ]
    },
    {
      "cell_type": "markdown",
      "metadata": {
        "id": "K6HsXY0OmJK8"
      },
      "source": [
        "# Funciones trascendentes\n",
        "\n",
        "Son funciones que no pueden ser expresadas con polinomios. "
      ]
    },
    {
      "cell_type": "markdown",
      "metadata": {
        "id": "5-SPisguvJOv"
      },
      "source": [
        "### Funciones trigonométricas\n",
        "\n",
        "Algunos ejemplos son las funciones $cos(x)$, $sen(x)$ y $tan(x)$"
      ]
    },
    {
      "cell_type": "code",
      "metadata": {
        "id": "UUcfkDvwjCiU",
        "colab": {
          "base_uri": "https://localhost:8080/",
          "height": 282
        },
        "outputId": "7eee19fd-36da-40fb-fcaf-0b4e93d76e7c"
      },
      "source": [
        "from math import pi\n",
        " \n",
        "def f(x):\n",
        "  return np.sin(x) #Llamado de la función seno(x) usando numpy :D\n",
        "def g(x):\n",
        "  return np.cos(x) #y de paso sea definida la función cos(x)\n",
        "\n",
        "\n",
        "x = np.linspace(-2*pi, 2*pi, num=1000) #Creación del vector X \n",
        "\n",
        "y = f(x) #creación de vector sen(x)\n",
        "c= g(x) #creación del vector cos(x)\n",
        "\n",
        "fig, ax = plt.subplots() #Función para trazar varias líneas\n",
        "ax.plot(x, y) #grafica X vs. y (sen(x))\n",
        "ax.plot(x,c,color='k' ) #grafica X vs. c (cos(x)) en negro\n",
        "\n",
        "ax.grid()\n",
        "ax.axhline(y=0, color='r')\n",
        "ax.axvline(x=0, color='r')"
      ],
      "execution_count": 38,
      "outputs": [
        {
          "output_type": "execute_result",
          "data": {
            "text/plain": [
              "<matplotlib.lines.Line2D at 0x7fc44e0edc50>"
            ]
          },
          "metadata": {
            "tags": []
          },
          "execution_count": 38
        },
        {
          "output_type": "display_data",
          "data": {
            "image/png": "[encoded data removed]",
            "text/plain": [
              "<Figure size 432x288 with 1 Axes>"
            ]
          },
          "metadata": {
            "tags": [],
            "needs_background": "light"
          }
        }
      ]
    },
    {
      "cell_type": "markdown",
      "metadata": {
        "id": "fD5TzUHQz3L0"
      },
      "source": [
        "### Función exponencial\n",
        "\n",
        "Tienen la forma de $$f(x)=a^x$$ donde la base $a$ es una constante positiva. Un gran ejemplo de una función exponencial es usando la base como el número de euler:\n",
        "\n",
        "$$f(x)=e^x$$"
      ]
    },
    {
      "cell_type": "code",
      "metadata": {
        "id": "Ax2KATylz7SQ",
        "colab": {
          "base_uri": "https://localhost:8080/",
          "height": 286
        },
        "outputId": "3eeb5e7a-e99b-4c45-d2c7-17594b344e38"
      },
      "source": [
        "def f(x):\n",
        "  return np.e**x #uso de la función exponencial, incluída en la maravillosa librería NumPy\n",
        "\n",
        "x = np.linspace(-1, 1, num=100000) #vector que va de -1 a 1 con mil espacios entre sí.\n",
        "\n",
        "y = f(x)\n",
        "\n",
        "fig, ax = plt.subplots() #esto para trazar varias líneas, funciones, etc. en una misma gráfica\n",
        "ax.plot(x, y) #traza el vector X contra el Y\n",
        "ax.grid() #activa la cuadrícula\n",
        "\n",
        "#Ahora se va a estudiar el comportamiento infinitesimal de la exponencial limitando el rango de observación a un punto muy pequeño.\n",
        "# Esta parte de código en adelante se puede comentar para ver solo la función en sí\n",
        "# Si se deja, sirve para ver la apariencia de la función en un intervalo muy pequeño del eje x\n",
        "\n",
        "\n",
        "delta = 0.01 #Para indicar qué tanto queremos graficar alrededor de un punto específico\n",
        "ax.set_ylim(1 - delta,1 + delta) #Limita lo mostrado del eje Y entre (valor inicial, valor final)\n",
        "ax.set_xlim(0 - delta, 0 + delta) #Limita lo mostrado del eje X entre (valor inicial, valor final)\n",
        "ax.axhline(y=0, color='r') #traza línea horizontal roja en y = 0\n",
        "ax.axvline(x=0, color='r') #traza línea vertical roja en x = 0\n",
        "\n"
      ],
      "execution_count": 39,
      "outputs": [
        {
          "output_type": "execute_result",
          "data": {
            "text/plain": [
              "<matplotlib.lines.Line2D at 0x7fc44e1d34d0>"
            ]
          },
          "metadata": {
            "tags": []
          },
          "execution_count": 39
        },
        {
          "output_type": "display_data",
          "data": {
            "image/png": "[encoded data removed]",
            "text/plain": [
              "<Figure size 432x288 with 1 Axes>"
            ]
          },
          "metadata": {
            "tags": [],
            "needs_background": "light"
          }
        }
      ]
    },
    {
      "cell_type": "markdown",
      "metadata": {
        "id": "sCuI2UVA046t"
      },
      "source": [
        "### Función logaritmo\n",
        "\n",
        "El logaritmo está definido por la **realación**:\n",
        "\n",
        "$$log_{b}(x) = n \\Longleftrightarrow x=b^n$$ \n",
        "\n",
        "donde: \n",
        "\n",
        "\n",
        "\n",
        "*   $b$ es la base.\n",
        "*   $n$ es el exponente al que está elevado la base.\n",
        "*   $x$ es el resultado de elevar la base $b$ al exponente $n$\n",
        "\n",
        "**Ejemplo:**\n",
        "\n",
        "Teniendo b=2 y n=8, entonces:\n",
        "\n",
        "$$2^8=256$$\n",
        "\n",
        "Por lo que $x=256$. Calculando el logaritmo base 2 de $x$ es:\n",
        "\n",
        "$$log_{2}(256) = 8$$\n",
        "\n",
        "\n",
        "\n"
      ]
    },
    {
      "cell_type": "code",
      "metadata": {
        "id": "e2HWt9k746Un",
        "colab": {
          "base_uri": "https://localhost:8080/",
          "height": 282
        },
        "outputId": "7a14c276-b7d9-4a76-918f-1d6ca73fb6b1"
      },
      "source": [
        "# utilidad en los decibelios\n",
        "\n",
        "def f(x):\n",
        "  return np.log2(x)\n",
        "\n",
        "x = np.linspace(0.01, 256, num=1000)\n",
        "\n",
        "y = f(x)\n",
        "\n",
        "fig, ax = plt.subplots()\n",
        "ax.plot(x, y)\n",
        "ax.grid()\n",
        "ax.axhline(y=0, color='r')\n",
        "ax.axvline(x=0, color='r')"
      ],
      "execution_count": null,
      "outputs": [
        {
          "output_type": "execute_result",
          "data": {
            "text/plain": [
              "<matplotlib.lines.Line2D at 0x7fc44ee9b590>"
            ]
          },
          "metadata": {
            "tags": []
          },
          "execution_count": 29
        },
        {
          "output_type": "display_data",
          "data": {
            "image/png": "[encoded data removed]",
            "text/plain": [
              "<Figure size 432x288 with 1 Axes>"
            ]
          },
          "metadata": {
            "tags": [],
            "needs_background": "light"
          }
        }
      ]
    },
    {
      "cell_type": "markdown",
      "metadata": {
        "id": "6Rz2Ofe_8zPM"
      },
      "source": [
        "# Función seccionada\n",
        "\n",
        "Son funciones que tienen diferentes valores definidos por un intervalo. Por ejemplo la función escalón de Heaviside: \n",
        "\n",
        "$$H(x) = \n",
        "     \\begin{cases}\n",
        "        0, &\\quad \\text{para, } x < 0 \\\\\n",
        "        1,  &\\quad\\text{para. } x \\ge 0 \\\\\n",
        "     \\end{cases}\n",
        "$$"
      ]
    },
    {
      "cell_type": "code",
      "metadata": {
        "id": "aWvsXZDzLl0r",
        "colab": {
          "base_uri": "https://localhost:8080/",
          "height": 265
        },
        "outputId": "0a692d3b-5bb1-4ea0-f905-f89fae829626"
      },
      "source": [
        "def H(X):\n",
        "  Y = np.zeros(len(X)) #crea vector de ceros de igual dimensión que X\n",
        "  for idx,x in enumerate(X): #Ciclo que crea índice para que el vector con ceros se haga 1 a partir de x=0\n",
        "  #enumerate() cuenta cuántos índices (posiciones) tiene el vector que pide como parámetro\n",
        "    if x>=0:\n",
        "      Y[idx] = 1.0\n",
        "  return Y\n",
        "\n",
        "# Datos para graficación\n",
        "\n",
        "N = 1000\n",
        "\n",
        "X = np.linspace(-1,1, num=N)\n",
        "\n",
        "y = H(X)\n",
        "\n",
        "fig, ax = plt.subplots()\n",
        "ax.plot(X, y)\n",
        "ax.grid()"
      ],
      "execution_count": null,
      "outputs": [
        {
          "output_type": "display_data",
          "data": {
            "image/png": "[encoded data removed]",
            "text/plain": [
              "<Figure size 432x288 with 1 Axes>"
            ]
          },
          "metadata": {
            "tags": [],
            "needs_background": "light"
          }
        }
      ]
    }
  ]
}